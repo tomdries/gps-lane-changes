{
  "cells": [
    {
      "cell_type": "code",
      "execution_count": 7,
      "id": "1a6978c0",
      "metadata": {
        "id": "1a6978c0"
      },
      "outputs": [],
      "source": [
        "import pandas as pd\n",
        "from pathlib import Path\n",
        "import glob"
      ]
    },
    {
      "cell_type": "markdown",
      "source": [
        "Load repository to Colab "
      ],
      "metadata": {
        "id": "pgc_lQcuh5QT"
      },
      "id": "pgc_lQcuh5QT"
    },
    {
      "cell_type": "code",
      "source": [
        "%cd /content\n",
        "!rm -rf gps-lane-changes\n",
        "!git clone https://github.com/tomdries/gps-lane-changes\n",
        "%cd gps-lane-changes"
      ],
      "metadata": {
        "id": "prQNu7bPgPRn",
        "outputId": "f2cab2c0-088d-45b3-dab0-7e0f30d783e0",
        "colab": {
          "base_uri": "https://localhost:8080/"
        }
      },
      "id": "prQNu7bPgPRn",
      "execution_count": 4,
      "outputs": [
        {
          "output_type": "stream",
          "name": "stdout",
          "text": [
            "/content\n",
            "Cloning into 'gps-lane-changes'...\n",
            "remote: Enumerating objects: 12, done.\u001b[K\n",
            "remote: Counting objects: 100% (12/12), done.\u001b[K\n",
            "remote: Compressing objects: 100% (12/12), done.\u001b[K\n",
            "remote: Total 12 (delta 2), reused 10 (delta 0), pack-reused 0\u001b[K\n",
            "Unpacking objects: 100% (12/12), done.\n",
            "/content/gps-lane-changes\n"
          ]
        }
      ]
    },
    {
      "cell_type": "code",
      "source": [
        "lca_dfs = []\n",
        "for i in range(3):\n",
        "    lca_dfs.append(pd.read_csv(f'data/lane change annotations/lane change annotations with sections trip {i+1}.csv'))"
      ],
      "metadata": {
        "id": "zQY1h4ceg9D9"
      },
      "id": "zQY1h4ceg9D9",
      "execution_count": 11,
      "outputs": []
    },
    {
      "cell_type": "code",
      "metadata": {
        "id": "ZwH2ifWEYEfJ"
      },
      "source": [
        ""
      ],
      "execution_count": 13,
      "outputs": [],
      "id": "ZwH2ifWEYEfJ"
    }
  ],
  "metadata": {
    "kernelspec": {
      "display_name": "Python 3 (ipykernel)",
      "language": "python",
      "name": "python3"
    },
    "language_info": {
      "codemirror_mode": {
        "name": "ipython",
        "version": 3
      },
      "file_extension": ".py",
      "mimetype": "text/x-python",
      "name": "python",
      "nbconvert_exporter": "python",
      "pygments_lexer": "ipython3",
      "version": "3.9.6"
    },
    "colab": {
      "name": "analysis.ipynb",
      "provenance": []
    }
  },
  "nbformat": 4,
  "nbformat_minor": 5
}